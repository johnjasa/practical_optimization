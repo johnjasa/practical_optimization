{
 "cells": [
  {
   "cell_type": "markdown",
   "metadata": {},
   "source": [
    "## Main message\n",
    "A system is converged when the residuals are close to 0 within a tolerance. How this is achieved depends on what solver you use, but generally you want your residuals to decrease as computationally quickly as possible.\n",
    "\n",
    "## The basic idea of convergence\n",
    "Solver convergence means that the system's coupling or implicit relationships are resolved to the specified tolerance. Basically, the states (variables) within the system are at steady-state values for the given inputs. This mean that the outputs of the systems correctly correspond to the inputs. For any solver, we want the residual values of the states to be 0.\n",
    "$$ R(x) = 0 $$ but really it's\n",
    "$$ R(x) < \\text{tol} $$\n",
    "where $\\text{tol}$ is some number that is reasonably close to 0, maybe 1e-4 or 1e-8 or some other small number based on your problem.\n",
    "\n",
    "Convergence is relevant for both nonlinear and linear solvers. In oversimplified terms, you are converging the states of the system for nonlinear solvers whereas for linear solvers, you are converging the derivatives of the system. See [[Nonlinear vs linear solvers]] for a more detailed look. It's easier to think about nonlinear solvers converging states for a lot of people, so I'd suggest imagining those instead of linear solvers for this lesson.\n",
    "\n",
    "Your solver might converge part of your model sooner than another part due to the magnitude of the states and residuals. An example would be a solver that's converging the mass of an aircraft as well as its angle of attack. Without any scaling, the mass is a much larger magnitude than the angle of attack. The solver would prioritize resolving the mass residual much more than the angle of attack. This is also a motivating case for scaling your state variables when using complicated solver setups. This is a different but related topic to optimizer scaling.\n",
    "\n",
    "To be clear, the idea of solver convergence is different than that of optimizer convergence. They both use the word convergence and a similar mathematical idea, but practically they're quite different. You can think of solvers as a certain type of optimization; for a solver you're trying to get the residuals to 0, but for an optimization you're trying to find where the gradients are 0. See [[Newton's method math]] and [[Unconstrained optimization using a Newton solver]] for more details and a more mathy view.\n",
    "\n",
    "If your model is explicit feed-forward, in that there are no feedback loops or implicit states at all, you do not need a nonlinear solver or a notion of solver convergence. Most complicated engineering models have some sort of feedback. If you're not certain about the nature of your model, see [[Using N2]] on how to visualize and better understand you feedback loops.\n",
    "\n",
    "## How to tell when something is converged\n",
    "Determining when something is converged might be challenging. It fully depends on the problem you're solving and what you're doing with the results. If you're performing gradient-based optimization of high-fidelity CFD, you generally want a pretty tight tolerance. If you just need rough numbers or large-scale trends for an analysis, you might be able to get away with a looser tolerance. [[What solver tolerance should I use]] goes into much more detail about this.\n",
    "\n",
    "## Convergence in the terminal\n",
    "In OpenMDAO, solvers print out their convergence state based on their `iprint` value. You should generally have solver convergence printing on and logged to a file when doing analysis and optimization. This allows you to determine how a system is converging and how it's meeting the tolerances you've set. Here's an example output from OpenMDAO which comes from the Python code below.\n",
    "\n",
    "```\n",
    "=======\n",
    "circuit\n",
    "=======\n",
    "NL: Newton 0 ; 2.63440686 1\n",
    "NL: Newton 1 ; 10.2098095 3.8755629\n",
    "NL: Newton 2 ; 3.75604877 1.42576639\n",
    "NL: Newton 3 ; 1.38179632 0.524518949\n",
    "NL: Newton 4 ; 0.508340098 0.192961879\n",
    "NL: Newton 5 ; 0.187006627 0.0709862358\n",
    "NL: Newton 6 ; 0.0687916876 0.0261127803\n",
    "```\n",
    "\n",
    "Those two numbers are the *absolute* and *relative* residuals, respectively. You can set the tolerance for both of these values and accept convergence from either metric. There could be a system where you care about things on the order 1e10 or on the order 1e-5, so those relative and absolute tolerances might greatly differ.\n",
    "\n",
    "Here are some helpful OpenMDAO docs pages relevant to the discussion of solver convergence:\n",
    "\n",
    "- [Example Sellar problem](http://openmdao.org/twodocs/versions/latest/basic_user_guide/multidisciplinary_optimization/sellar.html)\n",
    "- [Debugging solvers](https://openmdao.org/twodocs/versions/latest/features/debugging/debugging_solvers.html)\n",
    "- [How to set solver settings](http://openmdao.org/twodocs/versions/latest/features/core_features/controlling_solver_behavior/set_solvers.html)\n",
    "- [Solver options](http://openmdao.org/twodocs/versions/latest/features/core_features/controlling_solver_behavior/solver_options.html)"
   ]
  },
  {
   "cell_type": "markdown",
   "metadata": {},
   "source": [
    "## Example circuit problem\n",
    "\n",
    "We now look at some example problems where we need to use a solver to resolve the implicit coupling.\n",
    "This problem comes from the [OpenMDAO doc site](https://openmdao.org/twodocs/versions/latest/features/debugging/debugging_solvers.html).\n",
    "\n",
    "First, we provide reasonable guesses to the Newton solver and see convergence:"
   ]
  },
  {
   "cell_type": "code",
   "execution_count": 18,
   "metadata": {},
   "outputs": [
    {
     "name": "stdout",
     "output_type": "stream",
     "text": [
      "\n",
      "=======\n",
      "circuit\n",
      "=======\n",
      "NL: Newton 0 ; 2.63440686 1\n",
      "NL: Newton 1 ; 10.2098095 3.8755629\n",
      "NL: Newton 2 ; 3.75604877 1.42576639\n",
      "NL: Newton 3 ; 1.38179632 0.524518949\n",
      "NL: Newton 4 ; 0.508340098 0.192961879\n",
      "NL: Newton 5 ; 0.187006627 0.0709862358\n",
      "NL: Newton 6 ; 0.0687916876 0.0261127803\n",
      "NL: Newton 7 ; 0.0253013258 0.00960418306\n",
      "NL: Newton 8 ; 0.00930113345 0.00353063666\n",
      "NL: Newton 9 ; 0.00341421321 0.00129600832\n",
      "NL: Newton 10 ; 0.00124785642 0.000473676423\n",
      "NL: Newton 11 ; 0.000450327474 0.000170940746\n",
      "NL: Newton 12 ; 0.000156619343 5.94514635e-05\n",
      "NL: Newton 13 ; 4.89476723e-05 1.85801491e-05\n",
      "NL: Newton 14 ; 1.12684364e-05 4.27740931e-06\n",
      "NL: Newton 15 ; 1.12181954e-06 4.2583382e-07\n",
      "NL: Newton 16 ; 1.45058216e-08 5.50629509e-09\n",
      "NL: Newton 17 ; 2.7662285e-12 1.05003845e-12\n",
      "NL: Newton Converged\n",
      "3 Explicit Output(s) in 'model'\n",
      "\n",
      "varname  val             \n",
      "-------  ----------------\n",
      "circuit\n",
      "  R1\n",
      "    I    [0.00996331]    \n",
      "  R2\n",
      "    I    [3.66901571e-05]\n",
      "  D1\n",
      "    I    [3.66901571e-05]\n",
      "\n",
      "\n",
      "2 Implicit Output(s) in 'model'\n",
      "\n",
      "varname  val         \n",
      "-------  ------------\n",
      "circuit\n",
      "  n1\n",
      "    V    [0.99633098]\n",
      "  n2\n",
      "    V    [0.62942941]\n",
      "\n",
      "\n"
     ]
    }
   ],
   "source": [
    "import openmdao.api as om\n",
    "\n",
    "p = om.Problem()\n",
    "model = p.model\n",
    "\n",
    "model.add_subsystem('circuit', Circuit())\n",
    "\n",
    "p.setup()\n",
    "\n",
    "nl = model.circuit.nonlinear_solver = om.NewtonSolver(solve_subsystems=False)\n",
    "nl.options['iprint'] = 2\n",
    "nl.options['maxiter'] = 25\n",
    "\n",
    "p.set_val('circuit.I_in', 0.01, units='A')\n",
    "p.set_val('circuit.Vg', 0.0, units='V')\n",
    "p.set_val('circuit.n1.V', 1.)\n",
    "p.set_val('circuit.n2.V', 0.5)\n",
    "\n",
    "p.run_model()\n",
    "\n",
    "p.model.list_outputs();"
   ]
  },
  {
   "cell_type": "markdown",
   "metadata": {},
   "source": [
    "Then, we purposefully provide \"bad\" initial guesses for the states in the Newton solver.\n",
    "This causes the solver to fail and not converge.\n",
    "From this, we can see an example of what the residuals look like when they don't converge and how OpenMDAO presents that information."
   ]
  },
  {
   "cell_type": "code",
   "execution_count": 17,
   "metadata": {},
   "outputs": [
    {
     "name": "stdout",
     "output_type": "stream",
     "text": [
      "\n",
      "=======\n",
      "circuit\n",
      "=======\n",
      "NL: Newton 0 ; 2.53337743 1\n",
      "NL: Newton 1 ; 6.97216645e+152 2.75212306e+152\n",
      "NL: Newton 2 ; 2.56496626e+152 1.01246906e+152\n",
      "NL: Newton 3 ; 9.43616587e+151 3.72473748e+151\n",
      "NL: Newton 4 ; 3.47143851e+151 1.37028082e+151\n",
      "NL: Newton 5 ; 1.27709554e+151 5.04107884e+150\n",
      "NL: Newton 6 ; 4.69826271e+150 1.8545451e+150\n",
      "NL: Newton 7 ; 1.72842766e+150 6.822622e+149\n",
      "NL: Newton 8 ; 6.35865288e+149 2.50995087e+149\n",
      "NL: Newton 9 ; 2.33926287e+149 9.23377165e+148\n",
      "NL: Newton 10 ; 8.60583345e+148 3.39698039e+148\n",
      "NL: NewtonSolver 'NL: Newton' on system 'circuit' failed to converge in 10 iterations.\n",
      "3 Explicit Output(s) in 'model'\n",
      "\n",
      "varname  val             \n",
      "-------  ----------------\n",
      "circuit\n",
      "  R1\n",
      "    I    [0.09997694]    \n",
      "  R2\n",
      "    I    [2.30559559e-05]\n",
      "  D1\n",
      "    I    [0.]            \n",
      "\n",
      "\n",
      "2 Implicit Output(s) in 'model'\n",
      "\n",
      "varname  val         \n",
      "-------  ------------\n",
      "circuit\n",
      "  n1\n",
      "    V    [9.9976944] \n",
      "  n2\n",
      "    V    [9.76713485]\n",
      "\n",
      "\n"
     ]
    }
   ],
   "source": [
    "p = om.Problem()\n",
    "model = p.model\n",
    "\n",
    "model.add_subsystem('circuit', Circuit())\n",
    "\n",
    "p.setup()\n",
    "\n",
    "nl = model.circuit.nonlinear_solver = om.NewtonSolver(solve_subsystems=False)\n",
    "nl.options['iprint'] = 2\n",
    "\n",
    "# set some poor initial guesses so that we don't converge\n",
    "p.set_val('circuit.I_in', 0.1, units='A')\n",
    "p.set_val('circuit.Vg', 0.0, units='V')\n",
    "p.set_val('circuit.n1.V', 10.)\n",
    "p.set_val('circuit.n2.V', 1e-3)\n",
    "\n",
    "p.run_model()\n",
    "\n",
    "p.model.list_outputs();"
   ]
  },
  {
   "cell_type": "markdown",
   "metadata": {},
   "source": [
    "Feel free to modify this code and try different solver options to see how it affects convergence."
   ]
  }
 ],
 "metadata": {
  "kernelspec": {
   "display_name": "Python 3.8.13 ('course')",
   "language": "python",
   "name": "python3"
  },
  "language_info": {
   "codemirror_mode": {
    "name": "ipython",
    "version": 3
   },
   "file_extension": ".py",
   "mimetype": "text/x-python",
   "name": "python",
   "nbconvert_exporter": "python",
   "pygments_lexer": "ipython3",
   "version": "3.8.13"
  },
  "orig_nbformat": 4,
  "vscode": {
   "interpreter": {
    "hash": "bbc39345f4c71044b590c101e46f267e23dd1cedaed1cdb4d1403963d20608f8"
   }
  }
 },
 "nbformat": 4,
 "nbformat_minor": 2
}
