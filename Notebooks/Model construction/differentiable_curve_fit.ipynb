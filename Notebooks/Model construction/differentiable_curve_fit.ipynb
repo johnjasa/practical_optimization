{
 "cells": [
  {
   "cell_type": "markdown",
   "metadata": {},
   "source": [
    "# Adding differentiable curve fits for tabular data\n",
    "\n",
    "## Main message\n",
    "If you're fitting a curve or surface to data and want to ever use gradient-based optimizers or Newton solvers, make sure to do it in a differentiable way."
   ]
  },
  {
   "cell_type": "markdown",
   "metadata": {},
   "source": [
    "## Intro and motivation\n",
    "\n",
    "There are times that we want to fit a curve to data.\n",
    "This data can be 1-dimensional or n-dimensional and may be regularly spaced, irregularly spaced, or sparse.\n",
    "We will use the term \"curve\" in a general sense to mean everything from curves to surfaces to n-dimensional hypersurfaces here.\n",
    "These curve fits go by many names, including regressions, surrogate models, metamodels, splines, and response surfaces.\n",
    "This topic is inherently related to all three broad categories in the course, though we will mostly approach this from the model construction viewpoint.\n",
    "\n",
    "Fitting a curve or surface to data naturally crops up in many different places, such as:\n",
    "- Using tabulated engine performance data in an optimization\n",
    "- Aerodynamic lift data from a wind tunnel or otherw analyses\n",
    "- Geospatial resource mapping (gold in the ground, soil composition, weather patterns based on point radar measurements, etc)\n",
    "\n",
    "When you do fit a curve to data, you must ensure 1) that the fit is reasonable compared to the training and verification data and 2) that the curve is differentiable and smooth if you use gradient-based optimizers or Newton solvers.\n",
    "\n",
    "OpenMDAO has multiple built-in tools to help you fit curves to data -- you shouldn't have to code this up on your own!"
   ]
  },
  {
   "cell_type": "markdown",
   "metadata": {},
   "source": [
    "## Simple approach\n",
    "A straightforward approach is a piecewise linear approximation of the data set.\n",
    "However, this produces C1 discontinuities at the data points, which means that the derivative changes instantly and thus is not well-defined.\n",
    "This potentially causes a problem for gradient-based optimizers who rely on accurate and smooth gradient information.\n",
    "\n",
    "Imagine when the optimal point is near one of those discontinuous points.\n",
    "The optimizer would struggle to correctly iterate there and may be ill-behaved.\n",
    "Our example case below shows this behavior and how to overcome it using OpenMDAO built-in methods. "
   ]
  },
  {
   "cell_type": "markdown",
   "metadata": {},
   "source": [
    "## How to add a smooth and differentiable curve fit\n",
    "Instead of using a piecewise linear fit, we could use a piecewise cubic spline, or many other forms of nonlinear surrogate modeling techniques.\n",
    "Take our example from before and fit a piecewise cubic spline to it.\n",
    "Now the resulting interpolation is smooth, continuous, and well-suited for gradient-based optimizers.\n",
    "\n",
    "There are many packages to help you do this, including Scipy, SMT, and OpenMDAO.\n",
    "OpenMDAO has built-in components to help you do this, including `SplineComp` and `MetaModels`.\n",
    "These all compute the derivatives automatically by using the built-in functionality provided by OpenMDAO.\n",
    "\n",
    "All this being said, getting a reasonable and accurate fit for your data is important.\n",
    "Always verify the correctness of your curve fits by performing leave-one-out and other testing.\n",
    "[[Creating high-quality surrogate models]] has much more information about this."
   ]
  },
  {
   "cell_type": "markdown",
   "metadata": {},
   "source": [
    "## Example case showing linear and smooth fits\n",
    "We now examine a simple case of fitting a curve to 1D data to illustrate what this looks like using built-in OpenMDAO methods.\n",
    "First, we train an interpolation using `InterpND` for a piecewise linear fit, then use an `Akima spline` fit to obtain a smooth and continuous interpolation.\n",
    "The two resulting interpolations are plotted below."
   ]
  },
  {
   "cell_type": "code",
   "execution_count": 29,
   "metadata": {},
   "outputs": [
    {
     "data": {
      "image/png": "[encoded data removed]",
      "text/plain": [
       "<Figure size 432x288 with 1 Axes>"
      ]
     },
     "metadata": {
      "needs_background": "light"
     },
     "output_type": "display_data"
    }
   ],
   "source": [
    "import numpy as np\n",
    "from openmdao.components.interp_util.interp import InterpND\n",
    "import matplotlib.pyplot as plt\n",
    "import openmdao.api as om\n",
    "\n",
    "\n",
    "x_training = np.arange(11)\n",
    "y_training = np.array([3., 2.5, 2.3, 2., 5.6, 4.5, 6.7, 4.2, 3.1, 2.2, 2.1])\n",
    "\n",
    "interp_linear = InterpND(method='slinear', points=x_training, values=y_training)\n",
    "interp_akima = InterpND(method='akima', points=x_training, values=y_training)\n",
    "\n",
    "plt.scatter(x_training, y_training, color='black')\n",
    "\n",
    "x_range = np.linspace(0., 10., 1001)\n",
    "plt.plot(x_range, interp_linear.interpolate(x_range), label='linear')\n",
    "\n",
    "plt.plot(x_range, interp_akima.interpolate(x_range), label='akima')\n",
    "plt.legend()\n",
    "plt.xlabel('x')\n",
    "plt.ylabel('y')\n",
    "plt.show()"
   ]
  },
  {
   "cell_type": "markdown",
   "metadata": {},
   "source": [
    "Next up, we perform a simple optimization on both of these interpolation functions to see how a gradient-based optimizer behaves.\n",
    "In both, we're seeking the $x$ value from 0 to 10 that minimizes the interpolating function.\n",
    "From a visual examination, we see that this occurs at $x=3$, but the optimizer does not have this knowledge.\n",
    "It instead must traverse this 1D design space to find the optimal point.\n",
    "\n",
    "Here, we use an OpenMDAO problem setup with the built-in `MetaModelStructuredComp` to obtain our interpolating functions.\n",
    "We then use the gradient-based SLSQP optimizer to find the minima starting at $x=4$."
   ]
  },
  {
   "cell_type": "code",
   "execution_count": 30,
   "metadata": {},
   "outputs": [],
   "source": [
    "def run_interp_opt(method):\n",
    "    # Create regular grid interpolator instance\n",
    "    interp = om.MetaModelStructuredComp(method=method)\n",
    "\n",
    "    # set up inputs and outputs\n",
    "    interp.add_input('x', 4.0, training_data=x_training, units=None)\n",
    "    interp.add_output('y', 1.0, training_data=y_training, units=None)\n",
    "\n",
    "    prob = om.Problem()\n",
    "\n",
    "    prob.model.add_subsystem('interps', interp, promotes=['*'])\n",
    "\n",
    "    # setup the optimization\n",
    "    prob.driver = om.ScipyOptimizeDriver()\n",
    "    prob.driver.options['optimizer'] = 'SLSQP'\n",
    "    prob.driver.options['tol'] = 1.e-9\n",
    "\n",
    "    prob.driver.recording_options['includes'] = ['*']\n",
    "    recorder = om.SqliteRecorder(f\"{method}_cases.sql\")\n",
    "    prob.driver.add_recorder(recorder)\n",
    "\n",
    "    prob.model.add_design_var('x', lower=0., upper=10.)\n",
    "    prob.model.add_objective('y')\n",
    "\n",
    "    prob.setup()\n",
    "\n",
    "    # run the optimization\n",
    "    prob.run_driver();"
   ]
  },
  {
   "cell_type": "markdown",
   "metadata": {},
   "source": [
    "First, we run the optimization on the piecewise linear fit."
   ]
  },
  {
   "cell_type": "code",
   "execution_count": 31,
   "metadata": {},
   "outputs": [
    {
     "name": "stdout",
     "output_type": "stream",
     "text": [
      "Optimization terminated successfully    (Exit mode 0)\n",
      "            Current function value: 2.000000000182022\n",
      "            Iterations: 33\n",
      "            Function evaluations: 211\n",
      "            Gradient evaluations: 32\n",
      "Optimization Complete\n",
      "-----------------------------------\n"
     ]
    }
   ],
   "source": [
    "run_interp_opt('slinear')"
   ]
  },
  {
   "cell_type": "markdown",
   "metadata": {},
   "source": [
    "It takes 211 function evaluations, which is a lot!\n",
    "The optimizer has a lot of trouble finding the minimum because there is a discontinuity in the derivatives there.\n",
    "The optimizer wants to find the point in the function where it is the lowest value and where the derivative is 0, but the derivative instantly changes from a negative to a positive value at $x=3$, leading to very bad optimizer behavior.\n",
    "\n",
    "However, if we optimize on the smooth Akima spline function, we see much better results."
   ]
  },
  {
   "cell_type": "code",
   "execution_count": 32,
   "metadata": {},
   "outputs": [
    {
     "name": "stdout",
     "output_type": "stream",
     "text": [
      "Optimization terminated successfully    (Exit mode 0)\n",
      "            Current function value: 1.9988172405361881\n",
      "            Iterations: 6\n",
      "            Function evaluations: 9\n",
      "            Gradient evaluations: 6\n",
      "Optimization Complete\n",
      "-----------------------------------\n"
     ]
    }
   ],
   "source": [
    "run_interp_opt('akima')"
   ]
  },
  {
   "cell_type": "markdown",
   "metadata": {},
   "source": [
    "It now only took 9 function evaluations and 6 gradient evaluations to find the optimum.\n",
    "This is because the smooth function creates a much better posed optimization problem.\n",
    "\n",
    "Of course this case is 1D and rather simple, but it quickly shows how discontinuities in the derivative space can severely hamper optimization performance.\n",
    "If this interpolation is one part of a huge series of computations within your model, it would not be easy to spot this problem.\n",
    "\n",
    "Thus, whenever you are fitting a curve or surface to data points, you should always use a smooth and differentiable fit to avoid any sort of poorly posed optimization problems."
   ]
  }
 ],
 "metadata": {
  "kernelspec": {
   "display_name": "Python 3.8.13 ('course')",
   "language": "python",
   "name": "python3"
  },
  "language_info": {
   "codemirror_mode": {
    "name": "ipython",
    "version": 3
   },
   "file_extension": ".py",
   "mimetype": "text/x-python",
   "name": "python",
   "nbconvert_exporter": "python",
   "pygments_lexer": "ipython3",
   "version": "3.8.13"
  },
  "orig_nbformat": 4,
  "vscode": {
   "interpreter": {
    "hash": "bbc39345f4c71044b590c101e46f267e23dd1cedaed1cdb4d1403963d20608f8"
   }
  }
 },
 "nbformat": 4,
 "nbformat_minor": 2
}
