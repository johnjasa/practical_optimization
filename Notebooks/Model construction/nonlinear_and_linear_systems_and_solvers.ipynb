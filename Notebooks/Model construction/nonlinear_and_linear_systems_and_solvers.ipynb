{
 "cells": [
  {
   "cell_type": "markdown",
   "metadata": {},
   "source": [
    "## Main messages\n",
    "1. In OpenMDAO terms, your nonlinear system is your model or governing system of equations. Your linear system is a behind-the-scenes linearization of your model used for computing derivatives.\n",
    "2. You need to use a nonlinear solver when there's backwards coupling or implicit systems; you need to use linear solver when using derivatives for Newton solvers or optimizers.\n",
    "\n",
    "## What are nonlinear and linear systems?\n",
    "I'm going to be painstakingly explicit here in an attempt to clarify an often confusing situation.\n",
    "\n",
    "When doing MDAO in OpenMDAO, **your model is known as a nonlinear system** regardless of the actual linearity of the model. This means that whatever equations and code lives in your `compute()` statements within OpeNMDAO are all part of the nonlinear system, even if those equations are perfectly linear. This is because OpenMDAO treats the most general case for the system, which include arbitrary nonlinearity.\n",
    "\n",
    "On the other hand, the **linear system in OpenMDAO is only used to compute gradient information**, and that gradient information is then used for Newton solvers or gradient-based optimization. The portions of code that you write that belong to the linear system are within the `compute_partials()` (for explicit components) and within the `linearize()` (for implicit components) methods. If you're using derivatives within OpenMDAO, you need a linear solver for your linear system.\n",
    "\n",
    "## Differences between nonlinear and linear solvers\n",
    "In general, you need both nonlinear and linear solvers for your models. Nonlinear solvers converge any sort of backwards coupling or implicitness in your model. Linear solvers compute the gradients for a linearized approximation of your model.\n",
    "\n",
    "It's sometimes easy to forget that you need a linear solver since you can often converge your *analysis* using just a nonlinear solver. But without a linear solver, your gradient information will be wrong, leading to poor convergence for your Newton solver or optimization. Heck, when putting together this notebook I forgot to put a linear solver and wondered why my system wasn't converging (whoops).\n",
    "\n",
    "Check out [[Types of solvers and when to use them]] for an overview of solver types and when to use them. This portion of the lecture really just compares nonlinear and linear solvers and discusses the differences in the mathematics that causes the need for different solver classifications.\n",
    "\n",
    "## Examples\n",
    "This first example shows the same two-equation system presented in the lecture. We then solve it using OpenMDAO's nonlinear Newton solver and its linear direct solver. Try playing around with the solver settings, options, and which solvers to use, to see how those changes impact convergence. "
   ]
  },
  {
   "cell_type": "code",
   "execution_count": 1,
   "metadata": {},
   "outputs": [
    {
     "name": "stdout",
     "output_type": "stream",
     "text": [
      "NL: Newton 0 ; 7.43303437 1\n",
      "NL: Newton 1 ; 1.3806158 0.185740538\n",
      "NL: Newton 2 ; 0.386391403 0.0519829969\n",
      "NL: Newton 3 ; 0.0664946284 0.0089458255\n",
      "NL: Newton 4 ; 0.00196427089 0.000264262318\n",
      "NL: Newton 5 ; 2.0322986e-06 2.73414396e-07\n",
      "NL: Newton 6 ; 2.06428508e-12 2.77717683e-13\n",
      "NL: Newton Converged\n"
     ]
    }
   ],
   "source": [
    "import openmdao.api as om\n",
    "import numpy as np\n",
    "\n",
    "\n",
    "prob = om.Problem()\n",
    "\n",
    "prob.model.add_subsystem('ex1', om.ExecComp('y = 1/x'), promotes=['*'])\n",
    "prob.model.add_subsystem('ex2', om.ExecComp('x = y**2', x={'lower': 0.5}), promotes=['*'])\n",
    "\n",
    "# Try it!\n",
    "# Swap out the Newton solver for a NLBGS solver.\n",
    "# What behavior do you see? Which solver performs better?\n",
    "# Can you change any solver options or properties to enhance convergence?\n",
    "prob.model.nonlinear_solver = om.NewtonSolver(solve_subsystems=False)\n",
    "# prob.model.nonlinear_solver = om.NonlinearBlockGS()\n",
    "\n",
    "# Try it!\n",
    "# If you use no linear solver, what happens? Any change in convergence?\n",
    "# If you use a different linear solver (like that commented out one), what happens?\n",
    "prob.model.linear_solver = om.DirectSolver()\n",
    "# prob.model.linear_solver = om.ScipyKrylov()\n",
    "\n",
    "prob.setup()\n",
    "prob.model.nonlinear_solver.options['iprint'] = 2\n",
    "\n",
    "prob.set_val('x', 2)\n",
    "prob.set_val('y', 3)\n",
    "\n",
    "prob.run_model()"
   ]
  },
  {
   "cell_type": "markdown",
   "metadata": {},
   "source": [
    "Okay, next up we have a sort of weird example, but I want to highlight it. We have an extremely trivial model here that consists of two equations and two unknowns. In this case, the equations are **both exactly linear**. Despite this, we still need to set a **nonlinear solver** in OpenMDAO terms. This is because OpenMDAO thinks of your model in the most general sense, which means treating it as a nonlinear system.\n",
    "\n",
    "However, when using a nonlinear solver like a Newton solver on a linear system, it converges the system in one iteration. This is because when gradients of the linear system make the Newton step exactly accurate throughout the entire design space because they do not change.\n",
    "\n",
    "This can be confusing because you can easily construct a relevant engineering model that is entirely linear, but you still need to set a nonlinear solver in OpenMDAO. The **linear solver** in OpenMDAO is used only to compute gradients for the model."
   ]
  },
  {
   "cell_type": "code",
   "execution_count": 2,
   "metadata": {},
   "outputs": [
    {
     "name": "stdout",
     "output_type": "stream",
     "text": [
      "NL: Newton 0 ; 2.23606798 1\n",
      "NL: Newton 1 ; 0 0\n",
      "NL: Newton Converged\n"
     ]
    }
   ],
   "source": [
    "prob = om.Problem()\n",
    "\n",
    "prob.model.add_subsystem('ex1', om.ExecComp('y = 0.5*x + 1.5'), promotes=['*'])\n",
    "prob.model.add_subsystem('ex2', om.ExecComp('x = (4 - y ) / 0.75'), promotes=['*'])\n",
    "\n",
    "prob.model.nonlinear_solver = om.NewtonSolver(solve_subsystems=False)\n",
    "# prob.model.nonlinear_solver = om.NonlinearBlockGS()\n",
    "prob.model.linear_solver = om.DirectSolver()\n",
    "\n",
    "prob.setup()\n",
    "prob.model.nonlinear_solver.options['iprint'] = 2\n",
    "\n",
    "prob.set_val('x', 1)\n",
    "prob.set_val('y', 4)\n",
    "\n",
    "prob.run_model()"
   ]
  },
  {
   "cell_type": "code",
   "execution_count": null,
   "metadata": {},
   "outputs": [],
   "source": []
  }
 ],
 "metadata": {
  "kernelspec": {
   "display_name": "Python 3.8.13 ('course')",
   "language": "python",
   "name": "python3"
  },
  "language_info": {
   "codemirror_mode": {
    "name": "ipython",
    "version": 3
   },
   "file_extension": ".py",
   "mimetype": "text/x-python",
   "name": "python",
   "nbconvert_exporter": "python",
   "pygments_lexer": "ipython3",
   "version": "3.8.13"
  },
  "orig_nbformat": 4,
  "vscode": {
   "interpreter": {
    "hash": "bbc39345f4c71044b590c101e46f267e23dd1cedaed1cdb4d1403963d20608f8"
   }
  }
 },
 "nbformat": 4,
 "nbformat_minor": 2
}
