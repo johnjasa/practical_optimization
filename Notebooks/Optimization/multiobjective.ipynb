{
 "cells": [
  {
   "cell_type": "markdown",
   "metadata": {},
   "source": [
    "# Multiobjective optimization\n",
    "\n",
    "## Main message\n",
    "Multiobjective optimization is somewhat of a misnomer -- you actually have to have predefined weightings for each of the objectives you care about, or implement them as constraints."
   ]
  },
  {
   "cell_type": "markdown",
   "metadata": {},
   "source": [
    "## Context for multiobjective optimization\n",
    "Most optimization algorithms assume the objective function returns a scalar, thus they are capable of only single-objective optimization. Some other algorithms, including (TODO: add some examples) are able to perform multiobjective optimization in some way. Of course the hope is that you can optimize two or more objective values at once, but the reality is that often those objective functions are at odds with each other.\n",
    "\n",
    "Let's view aerostructural wing design for an example. In a simple trade-off, if you extend the wingspan you get more lift and aerodynamic performance, but your structural masses and costs become greater to withstand the larger load. This trade-off means that you cannot maximize the aerodynamic performance *and* minimize the structural weight -- there must be some sort of a balancing act. In reality we care about the total performance of the airplane, more than any subdiscipline, so our objective function usually captures effects from multiple disciplines at once."
   ]
  },
  {
   "cell_type": "markdown",
   "metadata": {},
   "source": [
    "## Weighted sum method\n",
    "The simplest way to perform multiobjective optimization is to use the weighted sum method.\n",
    "The weighted sum method simply combines multiple objective functions by adding them together with some weights on each function.\n",
    "An example is shown here, \n",
    "\n",
    "$$f_{\\text{obj}}(x) = \\alpha g(x) + \\beta h(x)$$\n",
    "\n",
    "where $g(x)$ and $h(x)$ are two objectives we're trying to optimize simultaneously and $\\alpha$ and $\\beta$ are weighting variables for each of the objective functions.\n",
    "If you cared much more about the value of $g(x)$, you would set $\\alpha$ to be larger than $\\beta$.\n",
    "However, it's not that simple as $g(x)$ and $h(x)$ might have radically different magnitudes.\n",
    "If $g(x)$ is on the order 5,000 while $h(x)$ is on the order 0.1, this would cause the optimizer to prioritize changing the design to make $g(x)$ smaller.\n",
    "An example of this is if we're trying to optimize the structural weight (large magnitude) and the coefficient of drag $C_D$ (small value) for an aircraft:\n",
    "\n",
    "$$f_{\\text{obj}}(x) = f_{\\text{structural weight}(x)} [\\text{kg}] + f_{C_D}$$\n",
    "\n",
    "If you care about both objectives approximately equally, you should scale both objective functions by an appropriate amount to make them approximately the same magnitude.\n",
    "The general form looks like this:\n",
    "\n",
    "$$f_{\\text{obj}}(x) = \\alpha \\frac{g(x)}{g_0} + \\beta \\frac{h(x)}{h_0}$$\n",
    "\n",
    "where $g_0$ and $h_0$ are those magnitude scalars.\n",
    "In the previously mentioned example, this might look like:\n",
    "\n",
    "$$f_{\\text{obj}}(x) = \\alpha \\frac{f_{\\text{structural weight}(x)} [\\text{kg}]}{2700 [\\text{kg}]} + \\beta \\frac{f_{C_D}}{0.025}$$"
   ]
  },
  {
   "cell_type": "markdown",
   "metadata": {},
   "source": [
    "## A simple multiobjective example\n",
    "\n",
    "Let's set up a very simple optimization case in OpenMDAO.\n",
    "This sets up a summation-baed objective function: $f(x) = \\alpha g(x) + \\beta h(x)$."
   ]
  },
  {
   "cell_type": "code",
   "execution_count": 79,
   "metadata": {},
   "outputs": [
    {
     "name": "stdout",
     "output_type": "stream",
     "text": [
      "Optimization terminated successfully    (Exit mode 0)\n",
      "            Current function value: 4.9375\n",
      "            Iterations: 2\n",
      "            Function evaluations: 3\n",
      "            Gradient evaluations: 2\n",
      "Optimization Complete\n",
      "-----------------------------------\n",
      "[0.25] [4.9375]\n"
     ]
    }
   ],
   "source": [
    "import openmdao.api as om\n",
    "import numpy as np\n",
    "\n",
    "# build the model\n",
    "prob = om.Problem()\n",
    "\n",
    "prob.model.add_subsystem('paraboloid_1', om.ExecComp('g = (x-3)**2'), promotes=['*'])\n",
    "prob.model.add_subsystem('paraboloid_2', om.ExecComp('h = (x+1)**2 + 3*x'), promotes=['*'])\n",
    "prob.model.add_subsystem('objective', om.ExecComp('f = alpha * g + beta * h'), promotes=['*'])\n",
    "\n",
    "# setup the optimization\n",
    "prob.driver = om.ScipyOptimizeDriver()\n",
    "prob.driver.options['optimizer'] = 'SLSQP'\n",
    "\n",
    "prob.model.add_design_var('x', lower=-50, upper=50)\n",
    "prob.model.add_objective('f')\n",
    "\n",
    "prob.setup()\n",
    "\n",
    "# Set initial values.\n",
    "prob.set_val('x', 3.0)\n",
    "prob.set_val('alpha', 0.5)  # Vary these values to see different trends\n",
    "prob.set_val('beta', 0.5)\n",
    "\n",
    "# run the optimization\n",
    "prob.run_driver();\n",
    "\n",
    "print(prob['x'], prob['f'])"
   ]
  },
  {
   "cell_type": "markdown",
   "metadata": {},
   "source": [
    "## Pareto front\n",
    "\n",
    "Pareto fronts (short for frontiers) are a way to visualize a multidimensional design space where you care about multiple objectives. The Pareto front shows the optimal designs for different conditions across multiple objectives. There are infinitely many designs that are suboptimal compared to those along the Pareto front. All designs on the Pareto front come from a completed design optimization.\n",
    "\n",
    "A design exists on the Pareto front when it cannot be improved in one objective direction without sacrificing performance in the other. In the previous example case, this would mean that along the front, you'd have the lowest possible value of $g(x)$ for a given value of $f(x)$.\n",
    "\n",
    "There are many designs within this space that are not Pareto optimal, another term for being on the front. Any of those designs are said to be \"dominated\" by a Pareto front design because an objective value can be improved without sacrificing performance in the other objective.\n",
    "\n",
    "Pareto fronts can be hyperdimensional, not just two-dimensional. In this example we show only two objective functions to keep the visualization simple."
   ]
  },
  {
   "cell_type": "markdown",
   "metadata": {},
   "source": [
    "Now we can sweep through different $\\alpha$ and $\\beta$ values to create a Pareto front."
   ]
  },
  {
   "cell_type": "code",
   "execution_count": 80,
   "metadata": {},
   "outputs": [
    {
     "name": "stdout",
     "output_type": "stream",
     "text": [
      "Optimization terminated successfully    (Exit mode 0)\n",
      "            Current function value: -5.25\n",
      "            Iterations: 2\n",
      "            Function evaluations: 3\n",
      "            Gradient evaluations: 2\n",
      "Optimization Complete\n",
      "-----------------------------------\n",
      "Optimization terminated successfully    (Exit mode 0)\n",
      "            Current function value: -2.0024999999999995\n",
      "            Iterations: 2\n",
      "            Function evaluations: 3\n",
      "            Gradient evaluations: 2\n",
      "Optimization Complete\n",
      "-----------------------------------\n",
      "Optimization terminated successfully    (Exit mode 0)\n",
      "            Current function value: 0.6400000000000001\n",
      "            Iterations: 2\n",
      "            Function evaluations: 3\n",
      "            Gradient evaluations: 2\n",
      "Optimization Complete\n",
      "-----------------------------------\n",
      "Optimization terminated successfully    (Exit mode 0)\n",
      "            Current function value: 2.6775\n",
      "            Iterations: 2\n",
      "            Function evaluations: 3\n",
      "            Gradient evaluations: 2\n",
      "Optimization Complete\n",
      "-----------------------------------\n",
      "Optimization terminated successfully    (Exit mode 0)\n",
      "            Current function value: 4.11\n",
      "            Iterations: 2\n",
      "            Function evaluations: 3\n",
      "            Gradient evaluations: 2\n",
      "Optimization Complete\n",
      "-----------------------------------\n",
      "Optimization terminated successfully    (Exit mode 0)\n",
      "            Current function value: 4.937500000000001\n",
      "            Iterations: 2\n",
      "            Function evaluations: 3\n",
      "            Gradient evaluations: 2\n",
      "Optimization Complete\n",
      "-----------------------------------\n",
      "Optimization terminated successfully    (Exit mode 0)\n",
      "            Current function value: 5.159999999999999\n",
      "            Iterations: 2\n",
      "            Function evaluations: 3\n",
      "            Gradient evaluations: 2\n",
      "Optimization Complete\n",
      "-----------------------------------\n",
      "Optimization terminated successfully    (Exit mode 0)\n",
      "            Current function value: 4.7775\n",
      "            Iterations: 2\n",
      "            Function evaluations: 3\n",
      "            Gradient evaluations: 2\n",
      "Optimization Complete\n",
      "-----------------------------------\n",
      "Optimization terminated successfully    (Exit mode 0)\n",
      "            Current function value: 3.7899999999999996\n",
      "            Iterations: 2\n",
      "            Function evaluations: 3\n",
      "            Gradient evaluations: 2\n",
      "Optimization Complete\n",
      "-----------------------------------\n",
      "Optimization terminated successfully    (Exit mode 0)\n",
      "            Current function value: 2.1974999999999993\n",
      "            Iterations: 2\n",
      "            Function evaluations: 3\n",
      "            Gradient evaluations: 2\n",
      "Optimization Complete\n",
      "-----------------------------------\n",
      "Optimization terminated successfully    (Exit mode 0)\n",
      "            Current function value: 0.0\n",
      "            Iterations: 2\n",
      "            Function evaluations: 3\n",
      "            Gradient evaluations: 2\n",
      "Optimization Complete\n",
      "-----------------------------------\n"
     ]
    }
   ],
   "source": [
    "x_values = []\n",
    "f_values = []\n",
    "g_values = []\n",
    "h_values = []\n",
    "\n",
    "alphas = np.linspace(0., 1., 11)\n",
    "\n",
    "for alpha in alphas:\n",
    "    prob.set_val('alpha', alpha)# Vary these values to see different trends\n",
    "    prob.set_val('beta', 1-alpha)\n",
    "\n",
    "    # run the optimization\n",
    "    prob.run_driver();\n",
    "\n",
    "    x_values.append(float(prob[\"x\"]))\n",
    "    f_values.append(float(prob[\"f\"]))\n",
    "    g_values.append(float(prob[\"g\"]))\n",
    "    h_values.append(float(prob[\"h\"]))  "
   ]
  },
  {
   "cell_type": "code",
   "execution_count": 81,
   "metadata": {},
   "outputs": [
    {
     "data": {
      "image/png": "[encoded data removed]",
      "text/plain": [
       "<Figure size 432x288 with 1 Axes>"
      ]
     },
     "metadata": {
      "needs_background": "light"
     },
     "output_type": "display_data"
    }
   ],
   "source": [
    "import matplotlib.pyplot as plt\n",
    "\n",
    "plt.plot(g_values, h_values, marker='o')\n",
    "plt.xlabel('g(x)')\n",
    "plt.ylabel('h(x)')\n",
    "\n",
    "plt.text(g_values[0]-4, h_values[0]+2, f\"alpha={alphas[0]}\")\n",
    "plt.text(g_values[-1]+1, h_values[-1], f\"alpha={alphas[-1]}\")\n",
    "plt.show()\n"
   ]
  },
  {
   "cell_type": "markdown",
   "metadata": {},
   "source": [
    "## Epsilon constraint method\n",
    "\n",
    "The epsilon-constrained ($\\epsilon$-constrained) method is another way to perform multiobjective optimization where one objective function is minimized by the optimizer while the other objective functions are constrained to specific values. This ensures that a given design is optimal is one objective for a given value in the other objective functions.\n",
    "\n",
    "The $\\epsilon$-constrained method is the preferred way to create Pareto fronts because it produces a more robust curve and avoids rare situations where the Pareto front is non-convex that may be troublesome if using the weighted-sum method.\n",
    "\n",
    "This method also allows you to easily control the spacing for a Pareto front. Given a spread of $g(x)$ values for constraints, you can directly set the spacing produced by a series of optimizations.\n",
    "\n",
    "For a bi-objective optimization, a good way to know what bounds to use for the constraint values are to run two optimizations first: one unconstrained using the first objective and the other unconstrained with the second objective only. From those two optimizations, the resulting values of the second and first objectives, respectively, could be your constraint limits.\n",
    "\n",
    "Taking the above plot, we see that $g(x)$ varies between around 0 and 30. Thus, 0 and 30 would be good starting and ending bounds for our sweep of $\\epsilon$-constrained optimizations."
   ]
  },
  {
   "cell_type": "code",
   "execution_count": 82,
   "metadata": {},
   "outputs": [
    {
     "name": "stdout",
     "output_type": "stream",
     "text": [
      "Optimization terminated successfully    (Exit mode 0)\n",
      "            Current function value: 24.999985744700204\n",
      "            Iterations: 29\n",
      "            Function evaluations: 45\n",
      "            Gradient evaluations: 29\n",
      "Optimization Complete\n",
      "-----------------------------------\n",
      "Optimization terminated successfully    (Exit mode 0)\n",
      "            Current function value: 13.027806414281002\n",
      "            Iterations: 6\n",
      "            Function evaluations: 7\n",
      "            Gradient evaluations: 6\n",
      "Optimization Complete\n",
      "-----------------------------------\n",
      "Optimization terminated successfully    (Exit mode 0)\n",
      "            Current function value: 8.947441111988304\n",
      "            Iterations: 5\n",
      "            Function evaluations: 6\n",
      "            Gradient evaluations: 5\n",
      "Optimization Complete\n",
      "-----------------------------------\n",
      "Optimization terminated successfully    (Exit mode 0)\n",
      "            Current function value: 6.165476220827765\n",
      "            Iterations: 4\n",
      "            Function evaluations: 4\n",
      "            Gradient evaluations: 4\n",
      "Optimization Complete\n",
      "-----------------------------------\n",
      "Optimization terminated successfully    (Exit mode 0)\n",
      "            Current function value: 4.055612505206167\n",
      "            Iterations: 4\n",
      "            Function evaluations: 4\n",
      "            Gradient evaluations: 4\n",
      "Optimization Complete\n",
      "-----------------------------------\n",
      "Optimization terminated successfully    (Exit mode 0)\n",
      "            Current function value: 2.3752593372121917\n",
      "            Iterations: 5\n",
      "            Function evaluations: 5\n",
      "            Gradient evaluations: 5\n",
      "Optimization Complete\n",
      "-----------------------------------\n",
      "Optimization terminated successfully    (Exit mode 0)\n",
      "            Current function value: 0.9999999998033928\n",
      "            Iterations: 5\n",
      "            Function evaluations: 5\n",
      "            Gradient evaluations: 5\n",
      "Optimization Complete\n",
      "-----------------------------------\n",
      "Optimization terminated successfully    (Exit mode 0)\n",
      "            Current function value: -0.14407384408587287\n",
      "            Iterations: 5\n",
      "            Function evaluations: 5\n",
      "            Gradient evaluations: 5\n",
      "Optimization Complete\n",
      "-----------------------------------\n",
      "Optimization terminated successfully    (Exit mode 0)\n",
      "            Current function value: -1.10511778643331\n",
      "            Iterations: 5\n",
      "            Function evaluations: 5\n",
      "            Gradient evaluations: 5\n",
      "Optimization Complete\n",
      "-----------------------------------\n",
      "Optimization terminated successfully    (Exit mode 0)\n",
      "            Current function value: -1.9165808444780918\n",
      "            Iterations: 5\n",
      "            Function evaluations: 5\n",
      "            Gradient evaluations: 5\n",
      "Optimization Complete\n",
      "-----------------------------------\n",
      "Optimization terminated successfully    (Exit mode 0)\n",
      "            Current function value: -2.602817096883997\n",
      "            Iterations: 5\n",
      "            Function evaluations: 5\n",
      "            Gradient evaluations: 5\n",
      "Optimization Complete\n",
      "-----------------------------------\n",
      "Optimization terminated successfully    (Exit mode 0)\n",
      "            Current function value: -3.182211225497805\n",
      "            Iterations: 5\n",
      "            Function evaluations: 6\n",
      "            Gradient evaluations: 5\n",
      "Optimization Complete\n",
      "-----------------------------------\n",
      "Optimization terminated successfully    (Exit mode 0)\n",
      "            Current function value: -3.669047558312263\n",
      "            Iterations: 5\n",
      "            Function evaluations: 6\n",
      "            Gradient evaluations: 5\n",
      "Optimization Complete\n",
      "-----------------------------------\n",
      "Optimization terminated successfully    (Exit mode 0)\n",
      "            Current function value: -4.074684764803669\n",
      "            Iterations: 6\n",
      "            Function evaluations: 6\n",
      "            Gradient evaluations: 6\n",
      "Optimization Complete\n",
      "-----------------------------------\n",
      "Optimization terminated successfully    (Exit mode 0)\n",
      "            Current function value: -4.408332644515911\n",
      "            Iterations: 6\n",
      "            Function evaluations: 6\n",
      "            Gradient evaluations: 6\n",
      "Optimization Complete\n",
      "-----------------------------------\n",
      "Optimization terminated successfully    (Exit mode 0)\n",
      "            Current function value: -4.677581392782812\n",
      "            Iterations: 6\n",
      "            Function evaluations: 6\n",
      "            Gradient evaluations: 6\n",
      "Optimization Complete\n",
      "-----------------------------------\n",
      "Optimization terminated successfully    (Exit mode 0)\n",
      "            Current function value: -4.888774341240432\n",
      "            Iterations: 6\n",
      "            Function evaluations: 6\n",
      "            Gradient evaluations: 6\n",
      "Optimization Complete\n",
      "-----------------------------------\n",
      "Optimization terminated successfully    (Exit mode 0)\n",
      "            Current function value: -5.04727716101202\n",
      "            Iterations: 6\n",
      "            Function evaluations: 6\n",
      "            Gradient evaluations: 6\n",
      "Optimization Complete\n",
      "-----------------------------------\n",
      "Optimization terminated successfully    (Exit mode 0)\n",
      "            Current function value: -5.157676654231944\n",
      "            Iterations: 4\n",
      "            Function evaluations: 5\n",
      "            Gradient evaluations: 4\n",
      "Optimization Complete\n",
      "-----------------------------------\n",
      "Optimization terminated successfully    (Exit mode 0)\n",
      "            Current function value: -5.223930386172212\n",
      "            Iterations: 4\n",
      "            Function evaluations: 6\n",
      "            Gradient evaluations: 4\n",
      "Optimization Complete\n",
      "-----------------------------------\n",
      "Optimization terminated successfully    (Exit mode 0)\n",
      "            Current function value: -5.249481325568274\n",
      "            Iterations: 4\n",
      "            Function evaluations: 6\n",
      "            Gradient evaluations: 4\n",
      "Optimization Complete\n",
      "-----------------------------------\n"
     ]
    }
   ],
   "source": [
    "x_values_constrained = []\n",
    "g_values_constrained = []\n",
    "h_values_constrained = []\n",
    "\n",
    "g_constraints = np.linspace(0., 30., 21)    \n",
    "\n",
    "for g_const in g_constraints:\n",
    "    # build the model\n",
    "    prob = om.Problem()\n",
    "\n",
    "    prob.model.add_subsystem('paraboloid_1', om.ExecComp('g = (x-3)**2'), promotes=['*'])\n",
    "    prob.model.add_subsystem('paraboloid_2', om.ExecComp('h = (x+1)**2 + 3*x'), promotes=['*'])\n",
    "\n",
    "    # setup the optimization\n",
    "    prob.driver = om.ScipyOptimizeDriver()\n",
    "    prob.driver.options['optimizer'] = 'SLSQP'\n",
    "\n",
    "    prob.model.add_design_var('x', lower=-50, upper=50)\n",
    "    prob.model.add_constraint('g', equals=g_const)\n",
    "    prob.model.add_objective('h')\n",
    "\n",
    "    prob.setup()\n",
    "\n",
    "    # run the optimization\n",
    "    prob.run_driver()\n",
    "\n",
    "    x_values_constrained.append(float(prob[\"x\"]))\n",
    "    g_values_constrained.append(float(prob[\"g\"]))\n",
    "    h_values_constrained.append(float(prob[\"h\"]))"
   ]
  },
  {
   "cell_type": "code",
   "execution_count": 83,
   "metadata": {},
   "outputs": [
    {
     "data": {
      "image/png": "[encoded data removed]",
      "text/plain": [
       "<Figure size 432x288 with 1 Axes>"
      ]
     },
     "metadata": {
      "needs_background": "light"
     },
     "output_type": "display_data"
    }
   ],
   "source": [
    "plt.plot(g_values_constrained, h_values_constrained, marker='o')\n",
    "plt.xlabel('g(x)')\n",
    "plt.ylabel('h(x)')\n",
    "\n",
    "plt.show()\n"
   ]
  },
  {
   "cell_type": "markdown",
   "metadata": {},
   "source": [
    "You can see in the previous plot that the $g(x)$ values are spaced equally in the plot because we used equally spaced values for the varied constraints."
   ]
  },
  {
   "cell_type": "code",
   "execution_count": 84,
   "metadata": {},
   "outputs": [
    {
     "data": {
      "image/png": "[encoded data removed]",
      "text/plain": [
       "<Figure size 432x288 with 1 Axes>"
      ]
     },
     "metadata": {
      "needs_background": "light"
     },
     "output_type": "display_data"
    }
   ],
   "source": [
    "plt.plot(g_values, h_values, marker='o', label='Weighted sum')\n",
    "plt.plot(g_values_constrained, h_values_constrained, marker='o', label='Epsilon constrained')\n",
    "\n",
    "plt.legend()\n",
    "plt.xlabel('g(x)')\n",
    "plt.ylabel('h(x)')\n",
    "\n",
    "plt.show()"
   ]
  },
  {
   "cell_type": "markdown",
   "metadata": {},
   "source": [
    "This last plot shows that the resulting Pareto fronts in this case largely lie on top of each other, as expected. The spacing of optimal points along the two fronts varies based on the method used."
   ]
  },
  {
   "cell_type": "code",
   "execution_count": null,
   "metadata": {},
   "outputs": [],
   "source": []
  }
 ],
 "metadata": {
  "kernelspec": {
   "display_name": "Python 3.8.13 ('course')",
   "language": "python",
   "name": "python3"
  },
  "language_info": {
   "codemirror_mode": {
    "name": "ipython",
    "version": 3
   },
   "file_extension": ".py",
   "mimetype": "text/x-python",
   "name": "python",
   "nbconvert_exporter": "python",
   "pygments_lexer": "ipython3",
   "version": "3.8.13"
  },
  "orig_nbformat": 4,
  "vscode": {
   "interpreter": {
    "hash": "bbc39345f4c71044b590c101e46f267e23dd1cedaed1cdb4d1403963d20608f8"
   }
  }
 },
 "nbformat": 4,
 "nbformat_minor": 2
}
